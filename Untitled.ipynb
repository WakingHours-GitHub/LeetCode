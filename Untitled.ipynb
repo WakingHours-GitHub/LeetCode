{
 "cells": [
  {
   "cell_type": "code",
   "execution_count": 33,
   "id": "52b6348e",
   "metadata": {},
   "outputs": [
    {
     "ename": "NameError",
     "evalue": "name 'sub' is not defined",
     "output_type": "error",
     "traceback": [
      "\u001b[1;31m---------------------------------------------------------------------------\u001b[0m",
      "\u001b[1;31mNameError\u001b[0m                                 Traceback (most recent call last)",
      "Input \u001b[1;32mIn [33]\u001b[0m, in \u001b[0;36m<cell line: 29>\u001b[1;34m()\u001b[0m\n\u001b[0;32m     24\u001b[0m             \u001b[38;5;28;01mreturn\u001b[39;00m \u001b[38;5;124m\"\u001b[39m\u001b[38;5;124mInfinite solutions\u001b[39m\u001b[38;5;124m\"\u001b[39m \u001b[38;5;28;01mif\u001b[39;00m B\u001b[38;5;241m==\u001b[39m\u001b[38;5;241m0\u001b[39m \u001b[38;5;28;01melse\u001b[39;00m \u001b[38;5;124m\"\u001b[39m\u001b[38;5;124mNo solution\u001b[39m\u001b[38;5;124m\"\u001b[39m\n\u001b[0;32m     25\u001b[0m         \u001b[38;5;28;01mreturn\u001b[39;00m \u001b[38;5;124m\"\u001b[39m\u001b[38;5;124mx=\u001b[39m\u001b[38;5;124m\"\u001b[39m\u001b[38;5;241m+\u001b[39m\u001b[38;5;28mstr\u001b[39m(\u001b[38;5;241m-\u001b[39mB\u001b[38;5;241m/\u001b[39m\u001b[38;5;241m/\u001b[39mK)\n\u001b[1;32m---> 29\u001b[0m \u001b[43msolveEquation2\u001b[49m\u001b[43m(\u001b[49m\u001b[38;5;124;43m\"\u001b[39;49m\u001b[38;5;124;43mx+5-3+x=6+x-2\u001b[39;49m\u001b[38;5;124;43m\"\u001b[39;49m\u001b[43m)\u001b[49m\n",
      "Input \u001b[1;32mIn [33]\u001b[0m, in \u001b[0;36msolveEquation2\u001b[1;34m(eq)\u001b[0m\n\u001b[0;32m     20\u001b[0m     k\u001b[38;5;241m.\u001b[39mappend(\u001b[38;5;28msum\u001b[39m(\u001b[38;5;28mint\u001b[39m(kk) \u001b[38;5;28;01mfor\u001b[39;00m kk \u001b[38;5;129;01min\u001b[39;00m re\u001b[38;5;241m.\u001b[39mfindall(\u001b[38;5;124mr\u001b[39m\u001b[38;5;124m'\u001b[39m\u001b[38;5;124m([-+]?\u001b[39m\u001b[38;5;124m\\\u001b[39m\u001b[38;5;124md+)x\u001b[39m\u001b[38;5;124m'\u001b[39m,ex)))\n\u001b[0;32m     21\u001b[0m     b\u001b[38;5;241m.\u001b[39mappend(\u001b[38;5;28msum\u001b[39m(\u001b[38;5;28mint\u001b[39m(bb) \u001b[38;5;28;01mfor\u001b[39;00m bb \u001b[38;5;129;01min\u001b[39;00m re\u001b[38;5;241m.\u001b[39mfindall(\u001b[38;5;124mr\u001b[39m\u001b[38;5;124m'\u001b[39m\u001b[38;5;124m([-+]?\u001b[39m\u001b[38;5;124m\\\u001b[39m\u001b[38;5;124md+)\u001b[39m\u001b[38;5;124m\\\u001b[39m\u001b[38;5;124mb\u001b[39m\u001b[38;5;124m'\u001b[39m,ex)))\n\u001b[1;32m---> 22\u001b[0m K,B\u001b[38;5;241m=\u001b[39m\u001b[43msub\u001b[49m(\u001b[38;5;241m*\u001b[39mk),sub(\u001b[38;5;241m*\u001b[39mb)\n\u001b[0;32m     23\u001b[0m \u001b[38;5;28;01mif\u001b[39;00m K\u001b[38;5;241m==\u001b[39m\u001b[38;5;241m0\u001b[39m:\n\u001b[0;32m     24\u001b[0m     \u001b[38;5;28;01mreturn\u001b[39;00m \u001b[38;5;124m\"\u001b[39m\u001b[38;5;124mInfinite solutions\u001b[39m\u001b[38;5;124m\"\u001b[39m \u001b[38;5;28;01mif\u001b[39;00m B\u001b[38;5;241m==\u001b[39m\u001b[38;5;241m0\u001b[39m \u001b[38;5;28;01melse\u001b[39;00m \u001b[38;5;124m\"\u001b[39m\u001b[38;5;124mNo solution\u001b[39m\u001b[38;5;124m\"\u001b[39m\n",
      "\u001b[1;31mNameError\u001b[0m: name 'sub' is not defined"
     ]
    }
   ],
   "source": [
    "import re\n",
    "\n",
    "def reduce_equ():\n",
    "    pass\n",
    "\n",
    "\n",
    "def solveEquation(equation: str) -> str:\n",
    "    left, right = equation.split(\"=\")\n",
    "    print(left, right)\n",
    "    f_c = lambda x: eval(x.replace(\"x\", \"0\"))\n",
    "    f_x = lambda x: eval(re.sub(\"[+-]?[1-9]\", \"\", x).replace(\"x\", \"1\"))\n",
    "    left_x, left_c, right_x, right_c = f_x(left), f_c(left), f_x(right), f_c(right)\n",
    "    \n",
    "    print(left_x, left_c, right_x, right_c)\n",
    "    \n",
    "def solveEquation2(eq: str) -> str:\n",
    "        exp=re.sub(r'\\bx','1x',eq).split('=')\n",
    "        k,b=[],[]\n",
    "        for ex in exp:\n",
    "            k.append(sum(int(kk) for kk in re.findall(r'([-+]?\\d+)x',ex)))\n",
    "            b.append(sum(int(bb) for bb in re.findall(r'([-+]?\\d+)\\b',ex)))\n",
    "        K,B=sub(*k),sub(*b)\n",
    "        if K==0:\n",
    "            return \"Infinite solutions\" if B==0 else \"No solution\"\n",
    "        return \"x=\"+str(-B//K)\n",
    "\n",
    "\n",
    "    \n",
    "solveEquation2(\"x+5-3+x=6+x-2\")\n"
   ]
  },
  {
   "cell_type": "code",
   "execution_count": 60,
   "id": "c0fb1d6d",
   "metadata": {},
   "outputs": [
    {
     "name": "stdout",
     "output_type": "stream",
     "text": [
      "[[0, 4, 8, 12], [1, 3, 5, 7, 9, 11, 13], [2, 6, 10]]\n",
      "None\n"
     ]
    }
   ],
   "source": [
    "# https://leetcode.cn/problems/zigzag-conversion/\n",
    "#  N 字形变换\n",
    "class Solution:\n",
    "    def convert(self, s: str, numRows: int) -> str:\n",
    "        l = len(s) # 14\n",
    "#         one_row = list(range(0, len(s), numRows+1))\n",
    "#         two_row = list(range(1, len(s), numRows-1))\n",
    "#         three_row = list(range(2, len(s), numRows+1))\n",
    "#         print(one_row, two_row, three_row)\n",
    "\n",
    "#         one_row.extend(two_row)\n",
    "#         one_row.extend(three_row)\n",
    "        \n",
    "        \n",
    "#         return ''.join([s[i] for i in one_row])\n",
    "        res = [j for j in [ li for li in [list(range(row, l, numRows +1 if row % 2 == 0 else numRows -1)) for row in range(numRows)]]]\n",
    "        print(res)\n",
    "        \n",
    "    def __call__(self, s: str, num: int):\n",
    "        print(self.convert(s, num))\n",
    "        \n",
    "Solution()(\"PAYPALISHIRING\", 3)"
   ]
  },
  {
   "cell_type": "code",
   "execution_count": 16,
   "id": "5cd19c07",
   "metadata": {},
   "outputs": [
    {
     "name": "stdout",
     "output_type": "stream",
     "text": [
      "3\n",
      "0 1\n",
      "0 2\n",
      "1 2\n",
      "[[1, 4, 7], [2, 5, 8], [3, 6, 9]]\n",
      "[[7, 4, 1], [8, 5, 2], [9, 6, 3]]\n"
     ]
    }
   ],
   "source": [
    "# https://leetcode.cn/leetbook/read/array-and-string/clpgd/\n",
    "\"\"\"\n",
    "旋转矩阵\n",
    "给你一幅由 N × N 矩阵表示的图像，其中每个像素的大小为 4 字节。请你设计一种算法，将图像旋转 90 度。\n",
    "\n",
    "不占用额外内存空间能否做到？\n",
    "\"\"\"\n",
    "from typing import List\n",
    "\n",
    "class Solution:\n",
    "    def rotate(self, matrix: List[List[int]]) -> None:\n",
    "        \"\"\"\n",
    "        Do not return anything, modify matrix in-place instead.\n",
    "        \"\"\"\n",
    "        matrix[:]=zip(*matrix[::-1])\n",
    "        \n",
    "        # tmpe = 0\n",
    "        # n = len(matrix)\n",
    "        # for i in range(n):\n",
    "        #     for j in range(i+1, n):\n",
    "        #         temp = matrix[i][j]\n",
    "        #         matrix[i][j] = matrix[j][i]\n",
    "        #         matrix[j][i] = temp\n",
    "        #     # for j in range(0, n//2):\n",
    "        #     #     temp = matrix[i][j]\n",
    "        #     #     matrix[i][j] = matrix[i][n-j-1]\n",
    "        #     #     matrix[i][n-j-1] = temp\n",
    "        # [x.reverse() for x in matrix]\n",
    "\n",
    "    def __call__(self, matrix=[[1,2,3],[4,5,6],[7,8,9]]):\n",
    "        self.rotate(matrix)\n",
    "Solution()()"
   ]
  },
  {
   "cell_type": "code",
   "execution_count": null,
   "id": "4e454045",
   "metadata": {},
   "outputs": [],
   "source": []
  }
 ],
 "metadata": {
  "kernelspec": {
   "display_name": "Python 3 (ipykernel)",
   "language": "python",
   "name": "python3"
  },
  "language_info": {
   "codemirror_mode": {
    "name": "ipython",
    "version": 3
   },
   "file_extension": ".py",
   "mimetype": "text/x-python",
   "name": "python",
   "nbconvert_exporter": "python",
   "pygments_lexer": "ipython3",
   "version": "3.9.9"
  },
  "latex_envs": {
   "LaTeX_envs_menu_present": true,
   "autoclose": false,
   "autocomplete": true,
   "bibliofile": "biblio.bib",
   "cite_by": "apalike",
   "current_citInitial": 1,
   "eqLabelWithNumbers": true,
   "eqNumInitial": 1,
   "hotkeys": {
    "equation": "Ctrl-E",
    "itemize": "Ctrl-I"
   },
   "labels_anchors": false,
   "latex_user_defs": false,
   "report_style_numbering": false,
   "user_envs_cfg": false
  }
 },
 "nbformat": 4,
 "nbformat_minor": 5
}
